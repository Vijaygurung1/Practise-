{
 "cells": [
  {
   "cell_type": "markdown",
   "id": "0975c5b4",
   "metadata": {},
   "source": [
    "                                         1st Day Class \n",
    "    \n",
    "                                           14/May/2022\n",
    "        \n",
    "                                     Full stack Data Science "
   ]
  },
  {
   "cell_type": "code",
   "execution_count": 11,
   "id": "b85d6279",
   "metadata": {},
   "outputs": [],
   "source": [
    "vijay = 10"
   ]
  },
  {
   "cell_type": "code",
   "execution_count": 12,
   "id": "2061f732",
   "metadata": {},
   "outputs": [
    {
     "data": {
      "text/plain": [
       "8"
      ]
     },
     "execution_count": 12,
     "metadata": {},
     "output_type": "execute_result"
    }
   ],
   "source": [
    "vijay - 2"
   ]
  },
  {
   "cell_type": "code",
   "execution_count": 13,
   "id": "a78e6b88",
   "metadata": {},
   "outputs": [
    {
     "data": {
      "text/plain": [
       "int"
      ]
     },
     "execution_count": 13,
     "metadata": {},
     "output_type": "execute_result"
    }
   ],
   "source": [
    "type(vijay)"
   ]
  },
  {
   "cell_type": "code",
   "execution_count": 14,
   "id": "a64c9e1c",
   "metadata": {},
   "outputs": [],
   "source": [
    "v = \"where are all people going\""
   ]
  },
  {
   "cell_type": "code",
   "execution_count": 15,
   "id": "03a43a6a",
   "metadata": {},
   "outputs": [
    {
     "data": {
      "text/plain": [
       "'where are all people going'"
      ]
     },
     "execution_count": 15,
     "metadata": {},
     "output_type": "execute_result"
    }
   ],
   "source": [
    "v"
   ]
  },
  {
   "cell_type": "code",
   "execution_count": 16,
   "id": "fd9fa549",
   "metadata": {},
   "outputs": [
    {
     "data": {
      "text/plain": [
       "str"
      ]
     },
     "execution_count": 16,
     "metadata": {},
     "output_type": "execute_result"
    }
   ],
   "source": [
    "type(v)"
   ]
  },
  {
   "cell_type": "code",
   "execution_count": 40,
   "id": "0bcfecb3",
   "metadata": {},
   "outputs": [],
   "source": [
    "v = 45.65"
   ]
  },
  {
   "cell_type": "code",
   "execution_count": 41,
   "id": "83a33af6",
   "metadata": {},
   "outputs": [
    {
     "data": {
      "text/plain": [
       "float"
      ]
     },
     "execution_count": 41,
     "metadata": {},
     "output_type": "execute_result"
    }
   ],
   "source": [
    "type(v)"
   ]
  },
  {
   "cell_type": "code",
   "execution_count": 17,
   "id": "20e8353a",
   "metadata": {},
   "outputs": [],
   "source": [
    "b = True"
   ]
  },
  {
   "cell_type": "code",
   "execution_count": 18,
   "id": "ffecaad6",
   "metadata": {},
   "outputs": [
    {
     "data": {
      "text/plain": [
       "True"
      ]
     },
     "execution_count": 18,
     "metadata": {},
     "output_type": "execute_result"
    }
   ],
   "source": [
    "b"
   ]
  },
  {
   "cell_type": "code",
   "execution_count": 19,
   "id": "435a07a7",
   "metadata": {},
   "outputs": [
    {
     "data": {
      "text/plain": [
       "bool"
      ]
     },
     "execution_count": 19,
     "metadata": {},
     "output_type": "execute_result"
    }
   ],
   "source": [
    "type(b)"
   ]
  },
  {
   "cell_type": "code",
   "execution_count": 20,
   "id": "363edce6",
   "metadata": {},
   "outputs": [],
   "source": [
    "c = False"
   ]
  },
  {
   "cell_type": "code",
   "execution_count": 21,
   "id": "193e1c80",
   "metadata": {},
   "outputs": [
    {
     "data": {
      "text/plain": [
       "False"
      ]
     },
     "execution_count": 21,
     "metadata": {},
     "output_type": "execute_result"
    }
   ],
   "source": [
    "c"
   ]
  },
  {
   "cell_type": "code",
   "execution_count": 22,
   "id": "55f93a96",
   "metadata": {},
   "outputs": [
    {
     "data": {
      "text/plain": [
       "bool"
      ]
     },
     "execution_count": 22,
     "metadata": {},
     "output_type": "execute_result"
    }
   ],
   "source": [
    "type(c)"
   ]
  },
  {
   "cell_type": "code",
   "execution_count": 23,
   "id": "08072b4b",
   "metadata": {},
   "outputs": [
    {
     "ename": "ZeroDivisionError",
     "evalue": "division by zero",
     "output_type": "error",
     "traceback": [
      "\u001b[1;31m---------------------------------------------------------------------------\u001b[0m",
      "\u001b[1;31mZeroDivisionError\u001b[0m                         Traceback (most recent call last)",
      "\u001b[1;32m<ipython-input-23-f64d1295bbce>\u001b[0m in \u001b[0;36m<module>\u001b[1;34m\u001b[0m\n\u001b[1;32m----> 1\u001b[1;33m \u001b[1;32mTrue\u001b[0m\u001b[1;33m/\u001b[0m\u001b[1;32mFalse\u001b[0m\u001b[1;33m\u001b[0m\u001b[1;33m\u001b[0m\u001b[0m\n\u001b[0m",
      "\u001b[1;31mZeroDivisionError\u001b[0m: division by zero"
     ]
    }
   ],
   "source": [
    "True/False"
   ]
  },
  {
   "cell_type": "code",
   "execution_count": 24,
   "id": "33f241a8",
   "metadata": {},
   "outputs": [
    {
     "data": {
      "text/plain": [
       "2"
      ]
     },
     "execution_count": 24,
     "metadata": {},
     "output_type": "execute_result"
    }
   ],
   "source": [
    "True + True"
   ]
  },
  {
   "cell_type": "code",
   "execution_count": 25,
   "id": "ff2e05a6",
   "metadata": {},
   "outputs": [
    {
     "data": {
      "text/plain": [
       "1"
      ]
     },
     "execution_count": 25,
     "metadata": {},
     "output_type": "execute_result"
    }
   ],
   "source": [
    "True*True"
   ]
  },
  {
   "cell_type": "code",
   "execution_count": 26,
   "id": "3f8355b5",
   "metadata": {},
   "outputs": [],
   "source": [
    "n = 5+7j"
   ]
  },
  {
   "cell_type": "code",
   "execution_count": 27,
   "id": "1a97305f",
   "metadata": {},
   "outputs": [
    {
     "data": {
      "text/plain": [
       "complex"
      ]
     },
     "execution_count": 27,
     "metadata": {},
     "output_type": "execute_result"
    }
   ],
   "source": [
    "type(n)"
   ]
  },
  {
   "cell_type": "code",
   "execution_count": 28,
   "id": "3866668e",
   "metadata": {},
   "outputs": [
    {
     "data": {
      "text/plain": [
       "(10+14j)"
      ]
     },
     "execution_count": 28,
     "metadata": {},
     "output_type": "execute_result"
    }
   ],
   "source": [
    "n+n"
   ]
  },
  {
   "cell_type": "code",
   "execution_count": 29,
   "id": "d9c093ef",
   "metadata": {},
   "outputs": [
    {
     "data": {
      "text/plain": [
       "(5+7j)"
      ]
     },
     "execution_count": 29,
     "metadata": {},
     "output_type": "execute_result"
    }
   ],
   "source": [
    "n"
   ]
  },
  {
   "cell_type": "code",
   "execution_count": 31,
   "id": "21444ccc",
   "metadata": {},
   "outputs": [
    {
     "data": {
      "text/plain": [
       "0.0"
      ]
     },
     "execution_count": 31,
     "metadata": {},
     "output_type": "execute_result"
    }
   ],
   "source": [
    "0/1"
   ]
  },
  {
   "cell_type": "code",
   "execution_count": 32,
   "id": "3e8cf9e4",
   "metadata": {},
   "outputs": [
    {
     "data": {
      "text/plain": [
       "(5+7j)"
      ]
     },
     "execution_count": 32,
     "metadata": {},
     "output_type": "execute_result"
    }
   ],
   "source": [
    "n"
   ]
  },
  {
   "cell_type": "code",
   "execution_count": 33,
   "id": "e7ce6a8c",
   "metadata": {},
   "outputs": [
    {
     "data": {
      "text/plain": [
       "5.0"
      ]
     },
     "execution_count": 33,
     "metadata": {},
     "output_type": "execute_result"
    }
   ],
   "source": [
    "n.real"
   ]
  },
  {
   "cell_type": "code",
   "execution_count": 34,
   "id": "e0fdfa36",
   "metadata": {},
   "outputs": [
    {
     "data": {
      "text/plain": [
       "<function complex.conjugate>"
      ]
     },
     "execution_count": 34,
     "metadata": {},
     "output_type": "execute_result"
    }
   ],
   "source": [
    "n.conjugate"
   ]
  },
  {
   "cell_type": "code",
   "execution_count": 35,
   "id": "9597a69b",
   "metadata": {},
   "outputs": [],
   "source": [
    "v = \"where are all people going\""
   ]
  },
  {
   "cell_type": "code",
   "execution_count": 37,
   "id": "3f5ea28a",
   "metadata": {},
   "outputs": [
    {
     "data": {
      "text/plain": [
       "str"
      ]
     },
     "execution_count": 37,
     "metadata": {},
     "output_type": "execute_result"
    }
   ],
   "source": [
    "type(v)"
   ]
  },
  {
   "cell_type": "code",
   "execution_count": 38,
   "id": "bb85e3f1",
   "metadata": {},
   "outputs": [
    {
     "data": {
      "text/plain": [
       "7.0"
      ]
     },
     "execution_count": 38,
     "metadata": {},
     "output_type": "execute_result"
    }
   ],
   "source": [
    "n.imag"
   ]
  },
  {
   "cell_type": "code",
   "execution_count": 1,
   "id": "32eaaadb",
   "metadata": {},
   "outputs": [],
   "source": [
    "g=[3,4,5,6,\"vijay\",True,False,5+7j,34.45]"
   ]
  },
  {
   "cell_type": "code",
   "execution_count": 2,
   "id": "e64372c4",
   "metadata": {},
   "outputs": [
    {
     "data": {
      "text/plain": [
       "list"
      ]
     },
     "execution_count": 2,
     "metadata": {},
     "output_type": "execute_result"
    }
   ],
   "source": [
    "type(g)"
   ]
  },
  {
   "cell_type": "code",
   "execution_count": 3,
   "id": "ea8f2b7e",
   "metadata": {},
   "outputs": [
    {
     "data": {
      "text/plain": [
       "4"
      ]
     },
     "execution_count": 3,
     "metadata": {},
     "output_type": "execute_result"
    }
   ],
   "source": [
    "g[1]"
   ]
  },
  {
   "cell_type": "code",
   "execution_count": 52,
   "id": "63357175",
   "metadata": {},
   "outputs": [
    {
     "data": {
      "text/plain": [
       "5"
      ]
     },
     "execution_count": 52,
     "metadata": {},
     "output_type": "execute_result"
    }
   ],
   "source": [
    "g[5]"
   ]
  },
  {
   "cell_type": "code",
   "execution_count": 53,
   "id": "b45aa5c8",
   "metadata": {},
   "outputs": [
    {
     "data": {
      "text/plain": [
       "True"
      ]
     },
     "execution_count": 53,
     "metadata": {},
     "output_type": "execute_result"
    }
   ],
   "source": [
    "g[6]"
   ]
  },
  {
   "cell_type": "code",
   "execution_count": 4,
   "id": "669a9a12",
   "metadata": {},
   "outputs": [],
   "source": [
    "t = (324,456,65,456,46,\"gurung\",\"vijay\")"
   ]
  },
  {
   "cell_type": "code",
   "execution_count": 5,
   "id": "315b8ee7",
   "metadata": {},
   "outputs": [
    {
     "data": {
      "text/plain": [
       "tuple"
      ]
     },
     "execution_count": 5,
     "metadata": {},
     "output_type": "execute_result"
    }
   ],
   "source": [
    "type(t)"
   ]
  },
  {
   "cell_type": "code",
   "execution_count": 59,
   "id": "0ddd31e7",
   "metadata": {},
   "outputs": [],
   "source": [
    "d = {\"a\":\"vijay\", \"b\":\"gurung\", \"c\": 123456}"
   ]
  },
  {
   "cell_type": "code",
   "execution_count": 61,
   "id": "985864ee",
   "metadata": {},
   "outputs": [
    {
     "data": {
      "text/plain": [
       "dict"
      ]
     },
     "execution_count": 61,
     "metadata": {},
     "output_type": "execute_result"
    }
   ],
   "source": [
    "type(d)"
   ]
  },
  {
   "cell_type": "code",
   "execution_count": 6,
   "id": "ca8933d3",
   "metadata": {},
   "outputs": [],
   "source": [
    "d = {\"vijay\",\"gurung\",\"fruit\",\"vegetable\"}"
   ]
  },
  {
   "cell_type": "code",
   "execution_count": 7,
   "id": "4c414e4e",
   "metadata": {
    "scrolled": true
   },
   "outputs": [
    {
     "data": {
      "text/plain": [
       "set"
      ]
     },
     "execution_count": 7,
     "metadata": {},
     "output_type": "execute_result"
    }
   ],
   "source": [
    "type(d)"
   ]
  },
  {
   "cell_type": "markdown",
   "id": "f6de4fa8",
   "metadata": {},
   "source": [
    "                                PYTHON - ( VARIABLE ) 2ND CLASS "
   ]
  },
  {
   "cell_type": "markdown",
   "id": "7e9e9559",
   "metadata": {},
   "source": [
    "              Full Stack Data Science ( DAY - 2 ) 15 - May Python String Basic  "
   ]
  },
  {
   "cell_type": "code",
   "execution_count": 11,
   "id": "48a0fef6",
   "metadata": {},
   "outputs": [],
   "source": [
    "v = \"Ineuron\""
   ]
  },
  {
   "cell_type": "code",
   "execution_count": 12,
   "id": "b4f2938b",
   "metadata": {},
   "outputs": [
    {
     "data": {
      "text/plain": [
       "str"
      ]
     },
     "execution_count": 12,
     "metadata": {},
     "output_type": "execute_result"
    }
   ],
   "source": [
    "type(v)"
   ]
  },
  {
   "cell_type": "code",
   "execution_count": 14,
   "id": "2edc9db9",
   "metadata": {},
   "outputs": [
    {
     "data": {
      "text/plain": [
       "'I'"
      ]
     },
     "execution_count": 14,
     "metadata": {},
     "output_type": "execute_result"
    }
   ],
   "source": [
    "v[0]"
   ]
  },
  {
   "cell_type": "code",
   "execution_count": 15,
   "id": "0db5217b",
   "metadata": {},
   "outputs": [
    {
     "data": {
      "text/plain": [
       "'o'"
      ]
     },
     "execution_count": 15,
     "metadata": {},
     "output_type": "execute_result"
    }
   ],
   "source": [
    "v[5]"
   ]
  },
  {
   "cell_type": "code",
   "execution_count": 16,
   "id": "0b8ac5f7",
   "metadata": {},
   "outputs": [
    {
     "data": {
      "text/plain": [
       "'n'"
      ]
     },
     "execution_count": 16,
     "metadata": {},
     "output_type": "execute_result"
    }
   ],
   "source": [
    "v[-1]"
   ]
  },
  {
   "cell_type": "code",
   "execution_count": 18,
   "id": "0a11075a",
   "metadata": {},
   "outputs": [],
   "source": [
    "v1 = \"vijay\""
   ]
  },
  {
   "cell_type": "code",
   "execution_count": 19,
   "id": "40963fa4",
   "metadata": {},
   "outputs": [
    {
     "data": {
      "text/plain": [
       "'vijay'"
      ]
     },
     "execution_count": 19,
     "metadata": {},
     "output_type": "execute_result"
    }
   ],
   "source": [
    "v1"
   ]
  },
  {
   "cell_type": "code",
   "execution_count": 20,
   "id": "99b44c70",
   "metadata": {},
   "outputs": [
    {
     "data": {
      "text/plain": [
       "'a'"
      ]
     },
     "execution_count": 20,
     "metadata": {},
     "output_type": "execute_result"
    }
   ],
   "source": [
    "v1[-2]"
   ]
  },
  {
   "cell_type": "code",
   "execution_count": 34,
   "id": "0f6274e9",
   "metadata": {},
   "outputs": [],
   "source": [
    "v2 = \"this is my very first programming class's\""
   ]
  },
  {
   "cell_type": "code",
   "execution_count": 35,
   "id": "de35def5",
   "metadata": {},
   "outputs": [
    {
     "data": {
      "text/plain": [
       "\"this is my very first programming class's\""
      ]
     },
     "execution_count": 35,
     "metadata": {},
     "output_type": "execute_result"
    }
   ],
   "source": [
    "v2"
   ]
  },
  {
   "cell_type": "code",
   "execution_count": 36,
   "id": "0db198c1",
   "metadata": {},
   "outputs": [
    {
     "data": {
      "text/plain": [
       "'m'"
      ]
     },
     "execution_count": 36,
     "metadata": {},
     "output_type": "execute_result"
    }
   ],
   "source": [
    "v2[8]"
   ]
  },
  {
   "cell_type": "code",
   "execution_count": 37,
   "id": "07b95e3a",
   "metadata": {},
   "outputs": [
    {
     "data": {
      "text/plain": [
       "'his '"
      ]
     },
     "execution_count": 37,
     "metadata": {},
     "output_type": "execute_result"
    }
   ],
   "source": [
    "v2[1:5]"
   ]
  },
  {
   "cell_type": "code",
   "execution_count": 38,
   "id": "28748a0c",
   "metadata": {},
   "outputs": [
    {
     "data": {
      "text/plain": [
       "'s my very first programm'"
      ]
     },
     "execution_count": 38,
     "metadata": {},
     "output_type": "execute_result"
    }
   ],
   "source": [
    "v2[6:30]"
   ]
  },
  {
   "cell_type": "code",
   "execution_count": 39,
   "id": "8077a79f",
   "metadata": {},
   "outputs": [
    {
     "data": {
      "text/plain": [
       "'sm eyfrtporm'"
      ]
     },
     "execution_count": 39,
     "metadata": {},
     "output_type": "execute_result"
    }
   ],
   "source": [
    "v2[6:30:2]"
   ]
  },
  {
   "cell_type": "code",
   "execution_count": 50,
   "id": "ebb0d60c",
   "metadata": {},
   "outputs": [],
   "source": [
    "v = \"vijaygurung\""
   ]
  },
  {
   "cell_type": "code",
   "execution_count": 51,
   "id": "13b460d4",
   "metadata": {},
   "outputs": [
    {
     "data": {
      "text/plain": [
       "'vjyuu'"
      ]
     },
     "execution_count": 51,
     "metadata": {},
     "output_type": "execute_result"
    }
   ],
   "source": [
    "v[0:10:2]"
   ]
  },
  {
   "cell_type": "code",
   "execution_count": 56,
   "id": "718b9581",
   "metadata": {},
   "outputs": [],
   "source": [
    "v = \"vijaygurung\""
   ]
  },
  {
   "cell_type": "code",
   "execution_count": 57,
   "id": "4de75b6a",
   "metadata": {},
   "outputs": [
    {
     "data": {
      "text/plain": [
       "'vijaygurung'"
      ]
     },
     "execution_count": 57,
     "metadata": {},
     "output_type": "execute_result"
    }
   ],
   "source": [
    "v[0:11:1]"
   ]
  },
  {
   "cell_type": "code",
   "execution_count": 58,
   "id": "e13665a7",
   "metadata": {},
   "outputs": [
    {
     "data": {
      "text/plain": [
       "''"
      ]
     },
     "execution_count": 58,
     "metadata": {},
     "output_type": "execute_result"
    }
   ],
   "source": [
    "v[0:10:-1]"
   ]
  },
  {
   "cell_type": "code",
   "execution_count": 59,
   "id": "a5f6cb37",
   "metadata": {},
   "outputs": [
    {
     "data": {
      "text/plain": [
       "'gnurugyaji'"
      ]
     },
     "execution_count": 59,
     "metadata": {},
     "output_type": "execute_result"
    }
   ],
   "source": [
    "v[10:0:-1]"
   ]
  },
  {
   "cell_type": "code",
   "execution_count": 60,
   "id": "c693a07b",
   "metadata": {},
   "outputs": [
    {
     "data": {
      "text/plain": [
       "'guuyj'"
      ]
     },
     "execution_count": 60,
     "metadata": {},
     "output_type": "execute_result"
    }
   ],
   "source": [
    "v[10:0:-2]"
   ]
  },
  {
   "cell_type": "code",
   "execution_count": 61,
   "id": "8ce0e3b3",
   "metadata": {},
   "outputs": [
    {
     "data": {
      "text/plain": [
       "'vijaygur'"
      ]
     },
     "execution_count": 61,
     "metadata": {},
     "output_type": "execute_result"
    }
   ],
   "source": [
    "v[:-3]"
   ]
  },
  {
   "cell_type": "code",
   "execution_count": 62,
   "id": "c4fb68c5",
   "metadata": {},
   "outputs": [
    {
     "data": {
      "text/plain": [
       "'ng'"
      ]
     },
     "execution_count": 62,
     "metadata": {},
     "output_type": "execute_result"
    }
   ],
   "source": [
    "v[-2:]"
   ]
  },
  {
   "cell_type": "code",
   "execution_count": 63,
   "id": "ac3856b0",
   "metadata": {},
   "outputs": [
    {
     "data": {
      "text/plain": [
       "'gnurugyajiv'"
      ]
     },
     "execution_count": 63,
     "metadata": {},
     "output_type": "execute_result"
    }
   ],
   "source": [
    "v[::-1]"
   ]
  },
  {
   "cell_type": "code",
   "execution_count": 64,
   "id": "3f2bf47c",
   "metadata": {},
   "outputs": [
    {
     "data": {
      "text/plain": [
       "'vijaygurung'"
      ]
     },
     "execution_count": 64,
     "metadata": {},
     "output_type": "execute_result"
    }
   ],
   "source": [
    "v[0:50:1]"
   ]
  },
  {
   "cell_type": "code",
   "execution_count": 65,
   "id": "8ed45b96",
   "metadata": {},
   "outputs": [],
   "source": [
    "v3 = \"ineuron\""
   ]
  },
  {
   "cell_type": "code",
   "execution_count": 66,
   "id": "5effdf6f",
   "metadata": {},
   "outputs": [
    {
     "data": {
      "text/plain": [
       "''"
      ]
     },
     "execution_count": 66,
     "metadata": {},
     "output_type": "execute_result"
    }
   ],
   "source": [
    "v3[-2:-7:1]"
   ]
  },
  {
   "cell_type": "code",
   "execution_count": 68,
   "id": "d0c3334b",
   "metadata": {},
   "outputs": [
    {
     "data": {
      "text/plain": [
       "'ineur'"
      ]
     },
     "execution_count": 68,
     "metadata": {},
     "output_type": "execute_result"
    }
   ],
   "source": [
    "v3[-7:-2:1]"
   ]
  },
  {
   "cell_type": "code",
   "execution_count": 70,
   "id": "637ba9d0",
   "metadata": {},
   "outputs": [
    {
     "data": {
      "text/plain": [
       "''"
      ]
     },
     "execution_count": 70,
     "metadata": {},
     "output_type": "execute_result"
    }
   ],
   "source": [
    "v3[5:0]"
   ]
  },
  {
   "cell_type": "code",
   "execution_count": 71,
   "id": "41b5f5ba",
   "metadata": {},
   "outputs": [
    {
     "data": {
      "text/plain": [
       "''"
      ]
     },
     "execution_count": 71,
     "metadata": {},
     "output_type": "execute_result"
    }
   ],
   "source": [
    "v3[-7:0:1]"
   ]
  },
  {
   "cell_type": "code",
   "execution_count": 72,
   "id": "0604f4ed",
   "metadata": {},
   "outputs": [
    {
     "data": {
      "text/plain": [
       "'vijaygurung'"
      ]
     },
     "execution_count": 72,
     "metadata": {},
     "output_type": "execute_result"
    }
   ],
   "source": [
    "v"
   ]
  },
  {
   "cell_type": "code",
   "execution_count": 73,
   "id": "145d4cc6",
   "metadata": {},
   "outputs": [
    {
     "data": {
      "text/plain": [
       "''"
      ]
     },
     "execution_count": 73,
     "metadata": {},
     "output_type": "execute_result"
    }
   ],
   "source": [
    "v[:-1:-1]"
   ]
  },
  {
   "cell_type": "code",
   "execution_count": 74,
   "id": "6aeb55c0",
   "metadata": {},
   "outputs": [
    {
     "ename": "TypeError",
     "evalue": "can only concatenate str (not \"int\") to str",
     "output_type": "error",
     "traceback": [
      "\u001b[1;31m---------------------------------------------------------------------------\u001b[0m",
      "\u001b[1;31mTypeError\u001b[0m                                 Traceback (most recent call last)",
      "Input \u001b[1;32mIn [74]\u001b[0m, in \u001b[0;36m<cell line: 1>\u001b[1;34m()\u001b[0m\n\u001b[1;32m----> 1\u001b[0m \u001b[43mv\u001b[49m\u001b[38;5;241;43m+\u001b[39;49m\u001b[38;5;241;43m1\u001b[39;49m\n",
      "\u001b[1;31mTypeError\u001b[0m: can only concatenate str (not \"int\") to str"
     ]
    }
   ],
   "source": [
    "v+1"
   ]
  },
  {
   "cell_type": "code",
   "execution_count": 75,
   "id": "6df81566",
   "metadata": {},
   "outputs": [
    {
     "data": {
      "text/plain": [
       "'vijaygurung1'"
      ]
     },
     "execution_count": 75,
     "metadata": {},
     "output_type": "execute_result"
    }
   ],
   "source": [
    "v+\"1\""
   ]
  },
  {
   "cell_type": "markdown",
   "id": "c3cb50aa",
   "metadata": {},
   "source": [
    "                                Type Casting "
   ]
  },
  {
   "cell_type": "code",
   "execution_count": 76,
   "id": "937f5cc6",
   "metadata": {},
   "outputs": [
    {
     "data": {
      "text/plain": [
       "'vijaygurung1'"
      ]
     },
     "execution_count": 76,
     "metadata": {},
     "output_type": "execute_result"
    }
   ],
   "source": [
    "v+str(1)"
   ]
  },
  {
   "cell_type": "code",
   "execution_count": 77,
   "id": "efd7657e",
   "metadata": {},
   "outputs": [
    {
     "ename": "TypeError",
     "evalue": "can only concatenate str (not \"int\") to str",
     "output_type": "error",
     "traceback": [
      "\u001b[1;31m---------------------------------------------------------------------------\u001b[0m",
      "\u001b[1;31mTypeError\u001b[0m                                 Traceback (most recent call last)",
      "Input \u001b[1;32mIn [77]\u001b[0m, in \u001b[0;36m<cell line: 1>\u001b[1;34m()\u001b[0m\n\u001b[1;32m----> 1\u001b[0m \u001b[38;5;124;43m\"\u001b[39;49m\u001b[38;5;124;43mvijay\u001b[39;49m\u001b[38;5;124;43m\"\u001b[39;49m\u001b[43m \u001b[49m\u001b[38;5;241;43m+\u001b[39;49m\u001b[43m \u001b[49m\u001b[38;5;241;43m45789456\u001b[39;49m\n",
      "\u001b[1;31mTypeError\u001b[0m: can only concatenate str (not \"int\") to str"
     ]
    }
   ],
   "source": [
    "\"vijay\" + 45789456"
   ]
  },
  {
   "cell_type": "code",
   "execution_count": 81,
   "id": "cc3b08bb",
   "metadata": {},
   "outputs": [
    {
     "data": {
      "text/plain": [
       "'vijay4567857'"
      ]
     },
     "execution_count": 81,
     "metadata": {},
     "output_type": "execute_result"
    }
   ],
   "source": [
    "\"vijay\" + \"4567857\""
   ]
  },
  {
   "cell_type": "code",
   "execution_count": 84,
   "id": "49b46164",
   "metadata": {},
   "outputs": [
    {
     "data": {
      "text/plain": [
       "'vijaygurung'"
      ]
     },
     "execution_count": 84,
     "metadata": {},
     "output_type": "execute_result"
    }
   ],
   "source": [
    "v"
   ]
  },
  {
   "cell_type": "markdown",
   "id": "44c51469",
   "metadata": {},
   "source": [
    "#Len(Length) - We use it to know the complete legth of data set. \"vijaygurung\" is 12 letter character.\n",
    "\n",
    "#So,if we type len(v) then we get 11."
   ]
  },
  {
   "cell_type": "code",
   "execution_count": 86,
   "id": "d9445272",
   "metadata": {},
   "outputs": [
    {
     "data": {
      "text/plain": [
       "11"
      ]
     },
     "execution_count": 86,
     "metadata": {},
     "output_type": "execute_result"
    }
   ],
   "source": [
    "len(v)"
   ]
  },
  {
   "cell_type": "code",
   "execution_count": 91,
   "id": "23ebb03e",
   "metadata": {},
   "outputs": [
    {
     "data": {
      "text/plain": [
       "'vijaygurung'"
      ]
     },
     "execution_count": 91,
     "metadata": {},
     "output_type": "execute_result"
    }
   ],
   "source": [
    " v"
   ]
  },
  {
   "cell_type": "code",
   "execution_count": 92,
   "id": "acc10da0",
   "metadata": {},
   "outputs": [
    {
     "data": {
      "text/plain": [
       "'vijaygurungvijaygurung'"
      ]
     },
     "execution_count": 92,
     "metadata": {},
     "output_type": "execute_result"
    }
   ],
   "source": [
    "v*2"
   ]
  },
  {
   "cell_type": "code",
   "execution_count": 93,
   "id": "7eddc249",
   "metadata": {},
   "outputs": [
    {
     "data": {
      "text/plain": [
       "'vijaygurungvijaygurungvijaygurung'"
      ]
     },
     "execution_count": 93,
     "metadata": {},
     "output_type": "execute_result"
    }
   ],
   "source": [
    "v*3"
   ]
  },
  {
   "cell_type": "code",
   "execution_count": null,
   "id": "e3498bda",
   "metadata": {},
   "outputs": [],
   "source": []
  },
  {
   "cell_type": "raw",
   "id": "2b901437",
   "metadata": {},
   "source": [
    "                                               #Function\n",
    "    \n",
    "                                      #List of Function ( Total - 43 )\n",
    "        \n",
    "(1) Capitalize\n",
    "(2) casefold\n",
    "(3) Center\n",
    "(4) Count\n",
    "(5) Encode\n",
    "(6) Endswitch\n",
    "(7) Expandtabs\n",
    "(8) Find\n",
    "(9) Format\n",
    "(10) Format_Map\n",
    "(11) Index\n",
    "(12) Isalnum\n",
    "(13) Isalpha\n",
    "(14) Isascii\n",
    "(15) Isdecimal\n",
    "(16) Isdigit\n",
    "(17) Isidentifier\n",
    "(18) Isprintable \n",
    "(19) IsSpace\n",
    "(20) IsTitle\n",
    "(21) IsUpper\n",
    "(22) Join\n",
    "(23) Ljust\n",
    "(24) Lower\n",
    "(25) Lstrip\n",
    "(26) Maketrans\n",
    "(27) Partition\n",
    "(28) Replace\n",
    "(29) RFind\n",
    "(30) RIndex\n",
    "(31) RJust\n",
    "(32) RPartition\n",
    "(33) RSplit\n",
    "(34) RStrip\n",
    "(35) SPlit\n",
    "(36) SPlitLines\n",
    "(37) StartSwitch\n",
    "(38) Strip\n",
    "(39) SwapCase\n",
    "(40) Title \n",
    "(41) Translate\n",
    "(42) Upper\n",
    "(43) Zfill\n",
    "(44) Reverse ( It is Extra function not available in the List Function for knowledge purpose) "
   ]
  },
  {
   "cell_type": "code",
   "execution_count": 15,
   "id": "1b427f57",
   "metadata": {},
   "outputs": [],
   "source": [
    "  v = \"vijaygurung\""
   ]
  },
  {
   "cell_type": "code",
   "execution_count": 16,
   "id": "1efd9316",
   "metadata": {},
   "outputs": [
    {
     "data": {
      "text/plain": [
       "'vijaygurung'"
      ]
     },
     "execution_count": 16,
     "metadata": {},
     "output_type": "execute_result"
    }
   ],
   "source": [
    "v"
   ]
  },
  {
   "cell_type": "markdown",
   "id": "938e1cfa",
   "metadata": {},
   "source": [
    "                                 Function - #4.Count !\n",
    "                                 \n",
    "       Definition :-                           "
   ]
  },
  {
   "cell_type": "code",
   "execution_count": 17,
   "id": "25d2fe53",
   "metadata": {},
   "outputs": [
    {
     "data": {
      "text/plain": [
       "'vijaygurung'"
      ]
     },
     "execution_count": 17,
     "metadata": {},
     "output_type": "execute_result"
    }
   ],
   "source": [
    "v"
   ]
  },
  {
   "cell_type": "code",
   "execution_count": 19,
   "id": "a7526e92",
   "metadata": {},
   "outputs": [
    {
     "data": {
      "text/plain": [
       "2"
      ]
     },
     "execution_count": 19,
     "metadata": {},
     "output_type": "execute_result"
    }
   ],
   "source": [
    "v.count(\"g\")"
   ]
  },
  {
   "cell_type": "code",
   "execution_count": 20,
   "id": "5c7e2609",
   "metadata": {},
   "outputs": [
    {
     "data": {
      "text/plain": [
       "1"
      ]
     },
     "execution_count": 20,
     "metadata": {},
     "output_type": "execute_result"
    }
   ],
   "source": [
    "v.count(\"vi\")"
   ]
  },
  {
   "cell_type": "code",
   "execution_count": 21,
   "id": "b970481d",
   "metadata": {},
   "outputs": [
    {
     "data": {
      "text/plain": [
       "0"
      ]
     },
     "execution_count": 21,
     "metadata": {},
     "output_type": "execute_result"
    }
   ],
   "source": [
    "v.count('Vir')"
   ]
  },
  {
   "cell_type": "markdown",
   "id": "a0c12763",
   "metadata": {},
   "source": [
    "                             Function - #35-Split !"
   ]
  },
  {
   "cell_type": "markdown",
   "id": "fa167d3d",
   "metadata": {},
   "source": [
    "  #Split ( Definition ) -  Return a list of the words in the string,using sep(Seperater) \n",
    "  \n",
    "  #as the delimeter string.  "
   ]
  },
  {
   "cell_type": "code",
   "execution_count": 16,
   "id": "01c2cfb1",
   "metadata": {},
   "outputs": [
    {
     "data": {
      "text/plain": [
       "['vijaygurung']"
      ]
     },
     "execution_count": 16,
     "metadata": {},
     "output_type": "execute_result"
    }
   ],
   "source": [
    "v.split()"
   ]
  },
  {
   "cell_type": "code",
   "execution_count": 18,
   "id": "7b0b2eb8",
   "metadata": {},
   "outputs": [
    {
     "data": {
      "text/plain": [
       "['vijay', 'urun', '']"
      ]
     },
     "execution_count": 18,
     "metadata": {},
     "output_type": "execute_result"
    }
   ],
   "source": [
    "v.split(\"g\")"
   ]
  },
  {
   "cell_type": "code",
   "execution_count": 19,
   "id": "7f4ee257",
   "metadata": {},
   "outputs": [
    {
     "data": {
      "text/plain": [
       "list"
      ]
     },
     "execution_count": 19,
     "metadata": {},
     "output_type": "execute_result"
    }
   ],
   "source": [
    "v.split(\"g\")\n",
    "type(v.split(\"g\"))"
   ]
  },
  {
   "cell_type": "code",
   "execution_count": 20,
   "id": "4cb144d8",
   "metadata": {},
   "outputs": [
    {
     "ename": "SyntaxError",
     "evalue": "EOL while scanning string literal (3407455861.py, line 1)",
     "output_type": "error",
     "traceback": [
      "\u001b[1;36m  Input \u001b[1;32mIn [20]\u001b[1;36m\u001b[0m\n\u001b[1;33m    sw = 'The Samsung Group[3] (or simply Samsung) (Korean: 삼성 [samsʌŋ]) is a South Korean multinational manufacturing conglomerate headquartered in Samsung Town, Seoul, South Korea.[1] It comprises numerous affiliated businesses,[1] most of them united under the Samsung brand, and is the largest South Korean chaebol (business conglomerate). As of 2020, Samsung has the eighth highest global brand value.[4]\u001b[0m\n\u001b[1;37m                                                                                                                                                                                                                                                                                                                                                                                                                         ^\u001b[0m\n\u001b[1;31mSyntaxError\u001b[0m\u001b[1;31m:\u001b[0m EOL while scanning string literal\n"
     ]
    }
   ],
   "source": [
    "sw = 'The Samsung Group[3] (or simply Samsung) (Korean: 삼성 [samsʌŋ]) is a South Korean multinational manufacturing conglomerate headquartered in Samsung Town, Seoul, South Korea.[1] It comprises numerous affiliated businesses,[1] most of them united under the Samsung brand, and is the largest South Korean chaebol (business conglomerate). As of 2020, Samsung has the eighth highest global brand value.[4]\n",
    "\n",
    "Samsung was founded by Lee Byung-chul in 1938 as a trading company. Over the next three decades, the group diversified into areas including food processing, textiles, insurance, securities, and retail. Samsung entered the electronics industry in the late 1960s and the construction and shipbuilding industries in the mid-1970s; these areas would drive its subsequent growth. Following Lee's death in 1987, Samsung was separated into five business groups – Samsung Group, Shinsegae Group, CJ Group and Hansol Group, and Joongang Group.\n",
    "\n",
    "Notable Samsung industrial affiliates include Samsung Electronics (the world's largest information technology company, consumer electronics maker and chipmaker measured by 2017 revenues),[5][6] Samsung Heavy Industries (the world's second largest shipbuilder measured by 2010 revenues),[7] and Samsung Engineering and Samsung C&T Corporation (respectively the world's 13th and 36th largest construction companies).[8] Other notable subsidiaries include Samsung Life Insurance (the world's 14th largest life insurance company),[9] Samsung Everland (operator of Everland Resort, the oldest theme park in South Korea)[10] and Cheil Worldwide (the world's 15th largest advertising agency, as measured by 2012 revenues)'  '"
   ]
  },
  {
   "cell_type": "code",
   "execution_count": 21,
   "id": "51a9399c",
   "metadata": {},
   "outputs": [
    {
     "ename": "SyntaxError",
     "evalue": "EOL while scanning string literal (858498698.py, line 1)",
     "output_type": "error",
     "traceback": [
      "\u001b[1;36m  Input \u001b[1;32mIn [21]\u001b[1;36m\u001b[0m\n\u001b[1;33m    sw = \"The Samsung Group[3] (or simply Samsung) (Korean: 삼성 [samsʌŋ]) is a South Korean multinational manufacturing conglomerate headquartered in Samsung Town, Seoul, South Korea.[1] It comprises numerous affiliated businesses,[1] most of them united under the Samsung brand, and is the largest South Korean chaebol (business conglomerate). As of 2020, Samsung has the eighth highest global brand value.[4]\u001b[0m\n\u001b[1;37m                                                                                                                                                                                                                                                                                                                                                                                                                         ^\u001b[0m\n\u001b[1;31mSyntaxError\u001b[0m\u001b[1;31m:\u001b[0m EOL while scanning string literal\n"
     ]
    }
   ],
   "source": [
    "sw = \"The Samsung Group[3] (or simply Samsung) (Korean: 삼성 [samsʌŋ]) is a South Korean multinational manufacturing conglomerate headquartered in Samsung Town, Seoul, South Korea.[1] It comprises numerous affiliated businesses,[1] most of them united under the Samsung brand, and is the largest South Korean chaebol (business conglomerate). As of 2020, Samsung has the eighth highest global brand value.[4]\n",
    "\n",
    "Samsung was founded by Lee Byung-chul in 1938 as a trading company. Over the next three decades, the group diversified into areas including food processing, textiles, insurance, securities, and retail. Samsung entered the electronics industry in the late 1960s and the construction and shipbuilding industries in the mid-1970s; these areas would drive its subsequent growth. Following Lee's death in 1987, Samsung was separated into five business groups – Samsung Group, Shinsegae Group, CJ Group and Hansol Group, and Joongang Group.\n",
    "\n",
    "Notable Samsung industrial affiliates include Samsung Electronics (the world's largest information technology company, consumer electronics maker and chipmaker measured by 2017 revenues),[5][6] Samsung Heavy Industries (the world's second largest shipbuilder measured by 2010 revenues),[7] and Samsung Engineering and Samsung C&T Corporation (respectively the world's 13th and 36th largest construction companies).[8] Other notable subsidiaries include Samsung Life Insurance (the world's 14th largest life insurance company),[9] Samsung Everland (operator of Everland Resort, the oldest theme park in South Korea)[10] and Cheil Worldwide (the world's 15th largest advertising agency, as measured by 2012 revenues)\"."
   ]
  },
  {
   "cell_type": "code",
   "execution_count": 22,
   "id": "4b37ec47",
   "metadata": {},
   "outputs": [],
   "source": [
    "sw = \"The Samsung Group[3] (or simply Samsung) (Korean: 삼성 [samsʌŋ]) is a South Korean multinational manufacturing conglomerate \""
   ]
  },
  {
   "cell_type": "code",
   "execution_count": 29,
   "id": "ca76f70d",
   "metadata": {},
   "outputs": [
    {
     "data": {
      "text/plain": [
       "'The Samsung Group[3] (or simply Samsung) (Korean: 삼성 [samsʌŋ]) is a South Korean multinational manufacturing conglomerate'"
      ]
     },
     "execution_count": 29,
     "metadata": {},
     "output_type": "execute_result"
    }
   ],
   "source": [
    "sw"
   ]
  },
  {
   "cell_type": "markdown",
   "id": "013c71e6",
   "metadata": {},
   "source": [
    "                              1st -  ( #Triple Line Couch ! )\n",
    "#1.Use (\"\"\" ) When we have multi Line of string we always rember,but If we have multi line code then only \n",
    "                                  \n",
    "#We have to used (\"\"\") Triple Couch Incase of multi line of string otherwise python will not able to \n",
    "                                  \n",
    "#understand.\n",
    "                                  \n",
    "\n",
    "#2.Triple couch used even for the commenting purpose, so single line comment even for that purpose \n",
    "                                  \n",
    "#it can be used.\n",
    "\n",
    "#Triple line (\"\"\") - why we use - If we used single or double line couch then it will not work because \n",
    "\n",
    "#when it come to like whole paragraph, like Big line sentences then at that time single & double\n",
    "\n",
    "#couch not work."
   ]
  },
  {
   "cell_type": "code",
   "execution_count": 39,
   "id": "aaa6ce60",
   "metadata": {},
   "outputs": [],
   "source": [
    "sw = \"\"\"The Samsung Group[3] (or simply Samsung) (Korean: 삼성 [samsʌŋ]) is a South Korean multinational manufacturing conglomerate headquartered in Samsung Town, Seoul, South Korea.[1] It comprises numerous affiliated businesses,[1] most of them united under the Samsung brand, and is the largest South Korean chaebol (business conglomerate). As of 2020, Samsung has the eighth highest global brand value.[4]\n",
    "\n",
    "Samsung was founded by Lee Byung-chul in 1938 as a trading company. Over the next three decades, the group diversified into areas including food processing, textiles, insurance, securities, and retail. Samsung entered the electronics industry in the late 1960s and the construction and shipbuilding industries in the mid-1970s; these areas would drive its subsequent growth. Following Lee's death in 1987, Samsung was separated into five business groups – Samsung Group, Shinsegae Group, CJ Group and Hansol Group, and Joongang Group.\n",
    "\n",
    "Notable Samsung industrial affiliates include Samsung Electronics (the world's largest information technology company, consumer electronics maker and chipmaker measured by 2017 revenues),[5][6] Samsung Heavy Industries (the world's second largest shipbuilder measured by 2010 revenues),[7] and Samsung Engineering and Samsung C&T Corporation (respectively the world's 13th and 36th largest construction companies).[8] Other notable subsidiaries include Samsung Life Insurance (the world's 14th largest life insurance company),[9] Samsung Everland (operator of Everland Resort, the oldest theme park in South Korea)[10] and Cheil Worldwide (the world's 15th largest advertising agency, as measured by 2012 revenues).[11][12]\"\"\""
   ]
  },
  {
   "cell_type": "code",
   "execution_count": 40,
   "id": "d8193488",
   "metadata": {},
   "outputs": [
    {
     "data": {
      "text/plain": [
       "['The',\n",
       " 'Samsung',\n",
       " 'Group[3]',\n",
       " '(or',\n",
       " 'simply',\n",
       " 'Samsung)',\n",
       " '(Korean:',\n",
       " '삼성',\n",
       " '[samsʌŋ])',\n",
       " 'is',\n",
       " 'a',\n",
       " 'South',\n",
       " 'Korean',\n",
       " 'multinational',\n",
       " 'manufacturing',\n",
       " 'conglomerate',\n",
       " 'headquartered',\n",
       " 'in',\n",
       " 'Samsung',\n",
       " 'Town,',\n",
       " 'Seoul,',\n",
       " 'South',\n",
       " 'Korea.[1]',\n",
       " 'It',\n",
       " 'comprises',\n",
       " 'numerous',\n",
       " 'affiliated',\n",
       " 'businesses,[1]',\n",
       " 'most',\n",
       " 'of',\n",
       " 'them',\n",
       " 'united',\n",
       " 'under',\n",
       " 'the',\n",
       " 'Samsung',\n",
       " 'brand,',\n",
       " 'and',\n",
       " 'is',\n",
       " 'the',\n",
       " 'largest',\n",
       " 'South',\n",
       " 'Korean',\n",
       " 'chaebol',\n",
       " '(business',\n",
       " 'conglomerate).',\n",
       " 'As',\n",
       " 'of',\n",
       " '2020,',\n",
       " 'Samsung',\n",
       " 'has',\n",
       " 'the',\n",
       " 'eighth',\n",
       " 'highest',\n",
       " 'global',\n",
       " 'brand',\n",
       " 'value.[4]',\n",
       " 'Samsung',\n",
       " 'was',\n",
       " 'founded',\n",
       " 'by',\n",
       " 'Lee',\n",
       " 'Byung-chul',\n",
       " 'in',\n",
       " '1938',\n",
       " 'as',\n",
       " 'a',\n",
       " 'trading',\n",
       " 'company.',\n",
       " 'Over',\n",
       " 'the',\n",
       " 'next',\n",
       " 'three',\n",
       " 'decades,',\n",
       " 'the',\n",
       " 'group',\n",
       " 'diversified',\n",
       " 'into',\n",
       " 'areas',\n",
       " 'including',\n",
       " 'food',\n",
       " 'processing,',\n",
       " 'textiles,',\n",
       " 'insurance,',\n",
       " 'securities,',\n",
       " 'and',\n",
       " 'retail.',\n",
       " 'Samsung',\n",
       " 'entered',\n",
       " 'the',\n",
       " 'electronics',\n",
       " 'industry',\n",
       " 'in',\n",
       " 'the',\n",
       " 'late',\n",
       " '1960s',\n",
       " 'and',\n",
       " 'the',\n",
       " 'construction',\n",
       " 'and',\n",
       " 'shipbuilding',\n",
       " 'industries',\n",
       " 'in',\n",
       " 'the',\n",
       " 'mid-1970s;',\n",
       " 'these',\n",
       " 'areas',\n",
       " 'would',\n",
       " 'drive',\n",
       " 'its',\n",
       " 'subsequent',\n",
       " 'growth.',\n",
       " 'Following',\n",
       " \"Lee's\",\n",
       " 'death',\n",
       " 'in',\n",
       " '1987,',\n",
       " 'Samsung',\n",
       " 'was',\n",
       " 'separated',\n",
       " 'into',\n",
       " 'five',\n",
       " 'business',\n",
       " 'groups',\n",
       " '–',\n",
       " 'Samsung',\n",
       " 'Group,',\n",
       " 'Shinsegae',\n",
       " 'Group,',\n",
       " 'CJ',\n",
       " 'Group',\n",
       " 'and',\n",
       " 'Hansol',\n",
       " 'Group,',\n",
       " 'and',\n",
       " 'Joongang',\n",
       " 'Group.',\n",
       " 'Notable',\n",
       " 'Samsung',\n",
       " 'industrial',\n",
       " 'affiliates',\n",
       " 'include',\n",
       " 'Samsung',\n",
       " 'Electronics',\n",
       " '(the',\n",
       " \"world's\",\n",
       " 'largest',\n",
       " 'information',\n",
       " 'technology',\n",
       " 'company,',\n",
       " 'consumer',\n",
       " 'electronics',\n",
       " 'maker',\n",
       " 'and',\n",
       " 'chipmaker',\n",
       " 'measured',\n",
       " 'by',\n",
       " '2017',\n",
       " 'revenues),[5][6]',\n",
       " 'Samsung',\n",
       " 'Heavy',\n",
       " 'Industries',\n",
       " '(the',\n",
       " \"world's\",\n",
       " 'second',\n",
       " 'largest',\n",
       " 'shipbuilder',\n",
       " 'measured',\n",
       " 'by',\n",
       " '2010',\n",
       " 'revenues),[7]',\n",
       " 'and',\n",
       " 'Samsung',\n",
       " 'Engineering',\n",
       " 'and',\n",
       " 'Samsung',\n",
       " 'C&T',\n",
       " 'Corporation',\n",
       " '(respectively',\n",
       " 'the',\n",
       " \"world's\",\n",
       " '13th',\n",
       " 'and',\n",
       " '36th',\n",
       " 'largest',\n",
       " 'construction',\n",
       " 'companies).[8]',\n",
       " 'Other',\n",
       " 'notable',\n",
       " 'subsidiaries',\n",
       " 'include',\n",
       " 'Samsung',\n",
       " 'Life',\n",
       " 'Insurance',\n",
       " '(the',\n",
       " \"world's\",\n",
       " '14th',\n",
       " 'largest',\n",
       " 'life',\n",
       " 'insurance',\n",
       " 'company),[9]',\n",
       " 'Samsung',\n",
       " 'Everland',\n",
       " '(operator',\n",
       " 'of',\n",
       " 'Everland',\n",
       " 'Resort,',\n",
       " 'the',\n",
       " 'oldest',\n",
       " 'theme',\n",
       " 'park',\n",
       " 'in',\n",
       " 'South',\n",
       " 'Korea)[10]',\n",
       " 'and',\n",
       " 'Cheil',\n",
       " 'Worldwide',\n",
       " '(the',\n",
       " \"world's\",\n",
       " '15th',\n",
       " 'largest',\n",
       " 'advertising',\n",
       " 'agency,',\n",
       " 'as',\n",
       " 'measured',\n",
       " 'by',\n",
       " '2012',\n",
       " 'revenues).[11][12]']"
      ]
     },
     "execution_count": 40,
     "metadata": {},
     "output_type": "execute_result"
    }
   ],
   "source": [
    "sw.split()"
   ]
  },
  {
   "cell_type": "markdown",
   "id": "dccfb6a9",
   "metadata": {},
   "source": [
    "                         #Bracket ( ) inside  Space        \n",
    "#Bracket inside ( )  space if we use then based on the space dalimeter it is fine it is going to \n",
    "\n",
    "#return me as a list of all dataset we are able to get. It will split all the sentences one by one."
   ]
  },
  {
   "cell_type": "code",
   "execution_count": 2,
   "id": "b9c458e3",
   "metadata": {},
   "outputs": [],
   "source": [
    "sw = \"\"\"The Samsung Group[3] (or simply Samsung) (Korean: 삼성 [samsʌŋ]) is a South Korean multinational manufacturing conglomerate headquartered in Samsung Town, Seoul, South Korea.[1] It comprises numerous affiliated businesses,[1] most of them united under the Samsung brand, and is the largest South Korean chaebol (business conglomerate). As of 2020, Samsung has the eighth highest global brand value.[4]\n",
    "\n",
    "Samsung was founded by Lee Byung-chul in 1938 as a trading company. Over the next three decades, the group diversified into areas including food processing, textiles, insurance, securities, and retail. Samsung entered the electronics industry in the late 1960s and the construction and shipbuilding industries in the mid-1970s; these areas would drive its subsequent growth. Following Lee's death in 1987, Samsung was separated into five business groups – Samsung Group, Shinsegae Group, CJ Group and Hansol Group, and Joongang Group.\n",
    "\n",
    "Notable Samsung industrial affiliates include Samsung Electronics (the world's largest information technology company, consumer electronics maker and chipmaker measured by 2017 revenues),[5][6] Samsung Heavy Industries (the world's second largest shipbuilder measured by 2010 revenues),[7] and Samsung Engineering and Samsung C&T Corporation (respectively the world's 13th and 36th largest construction companies).[8] Other notable subsidiaries include Samsung Life Insurance (the world's 14th largest life insurance company),[9] Samsung Everland (operator of Everland Resort, the oldest theme park in South Korea)[10] and Cheil Worldwide (the world's 15th largest advertising agency, as measured by 2012 revenues).[11][12]'\"\"\""
   ]
  },
  {
   "cell_type": "code",
   "execution_count": 3,
   "id": "b964f080",
   "metadata": {},
   "outputs": [
    {
     "data": {
      "text/plain": [
       "['The',\n",
       " 'Samsung',\n",
       " 'Group[3]',\n",
       " '(or',\n",
       " 'simply',\n",
       " 'Samsung)',\n",
       " '(Korean:',\n",
       " '삼성',\n",
       " '[samsʌŋ])',\n",
       " 'is',\n",
       " 'a',\n",
       " 'South',\n",
       " 'Korean',\n",
       " 'multinational',\n",
       " 'manufacturing',\n",
       " 'conglomerate',\n",
       " 'headquartered',\n",
       " 'in',\n",
       " 'Samsung',\n",
       " 'Town,',\n",
       " 'Seoul,',\n",
       " 'South',\n",
       " 'Korea.[1]',\n",
       " 'It',\n",
       " 'comprises',\n",
       " 'numerous',\n",
       " 'affiliated',\n",
       " 'businesses,[1]',\n",
       " 'most',\n",
       " 'of',\n",
       " 'them',\n",
       " 'united',\n",
       " 'under',\n",
       " 'the',\n",
       " 'Samsung',\n",
       " 'brand,',\n",
       " 'and',\n",
       " 'is',\n",
       " 'the',\n",
       " 'largest',\n",
       " 'South',\n",
       " 'Korean',\n",
       " 'chaebol',\n",
       " '(business',\n",
       " 'conglomerate).',\n",
       " 'As',\n",
       " 'of',\n",
       " '2020,',\n",
       " 'Samsung',\n",
       " 'has',\n",
       " 'the',\n",
       " 'eighth',\n",
       " 'highest',\n",
       " 'global',\n",
       " 'brand',\n",
       " 'value.[4]',\n",
       " 'Samsung',\n",
       " 'was',\n",
       " 'founded',\n",
       " 'by',\n",
       " 'Lee',\n",
       " 'Byung-chul',\n",
       " 'in',\n",
       " '1938',\n",
       " 'as',\n",
       " 'a',\n",
       " 'trading',\n",
       " 'company.',\n",
       " 'Over',\n",
       " 'the',\n",
       " 'next',\n",
       " 'three',\n",
       " 'decades,',\n",
       " 'the',\n",
       " 'group',\n",
       " 'diversified',\n",
       " 'into',\n",
       " 'areas',\n",
       " 'including',\n",
       " 'food',\n",
       " 'processing,',\n",
       " 'textiles,',\n",
       " 'insurance,',\n",
       " 'securities,',\n",
       " 'and',\n",
       " 'retail.',\n",
       " 'Samsung',\n",
       " 'entered',\n",
       " 'the',\n",
       " 'electronics',\n",
       " 'industry',\n",
       " 'in',\n",
       " 'the',\n",
       " 'late',\n",
       " '1960s',\n",
       " 'and',\n",
       " 'the',\n",
       " 'construction',\n",
       " 'and',\n",
       " 'shipbuilding',\n",
       " 'industries',\n",
       " 'in',\n",
       " 'the',\n",
       " 'mid-1970s;',\n",
       " 'these',\n",
       " 'areas',\n",
       " 'would',\n",
       " 'drive',\n",
       " 'its',\n",
       " 'subsequent',\n",
       " 'growth.',\n",
       " 'Following',\n",
       " \"Lee's\",\n",
       " 'death',\n",
       " 'in',\n",
       " '1987,',\n",
       " 'Samsung',\n",
       " 'was',\n",
       " 'separated',\n",
       " 'into',\n",
       " 'five',\n",
       " 'business',\n",
       " 'groups',\n",
       " '–',\n",
       " 'Samsung',\n",
       " 'Group,',\n",
       " 'Shinsegae',\n",
       " 'Group,',\n",
       " 'CJ',\n",
       " 'Group',\n",
       " 'and',\n",
       " 'Hansol',\n",
       " 'Group,',\n",
       " 'and',\n",
       " 'Joongang',\n",
       " 'Group.',\n",
       " 'Notable',\n",
       " 'Samsung',\n",
       " 'industrial',\n",
       " 'affiliates',\n",
       " 'include',\n",
       " 'Samsung',\n",
       " 'Electronics',\n",
       " '(the',\n",
       " \"world's\",\n",
       " 'largest',\n",
       " 'information',\n",
       " 'technology',\n",
       " 'company,',\n",
       " 'consumer',\n",
       " 'electronics',\n",
       " 'maker',\n",
       " 'and',\n",
       " 'chipmaker',\n",
       " 'measured',\n",
       " 'by',\n",
       " '2017',\n",
       " 'revenues),[5][6]',\n",
       " 'Samsung',\n",
       " 'Heavy',\n",
       " 'Industries',\n",
       " '(the',\n",
       " \"world's\",\n",
       " 'second',\n",
       " 'largest',\n",
       " 'shipbuilder',\n",
       " 'measured',\n",
       " 'by',\n",
       " '2010',\n",
       " 'revenues),[7]',\n",
       " 'and',\n",
       " 'Samsung',\n",
       " 'Engineering',\n",
       " 'and',\n",
       " 'Samsung',\n",
       " 'C&T',\n",
       " 'Corporation',\n",
       " '(respectively',\n",
       " 'the',\n",
       " \"world's\",\n",
       " '13th',\n",
       " 'and',\n",
       " '36th',\n",
       " 'largest',\n",
       " 'construction',\n",
       " 'companies).[8]',\n",
       " 'Other',\n",
       " 'notable',\n",
       " 'subsidiaries',\n",
       " 'include',\n",
       " 'Samsung',\n",
       " 'Life',\n",
       " 'Insurance',\n",
       " '(the',\n",
       " \"world's\",\n",
       " '14th',\n",
       " 'largest',\n",
       " 'life',\n",
       " 'insurance',\n",
       " 'company),[9]',\n",
       " 'Samsung',\n",
       " 'Everland',\n",
       " '(operator',\n",
       " 'of',\n",
       " 'Everland',\n",
       " 'Resort,',\n",
       " 'the',\n",
       " 'oldest',\n",
       " 'theme',\n",
       " 'park',\n",
       " 'in',\n",
       " 'South',\n",
       " 'Korea)[10]',\n",
       " 'and',\n",
       " 'Cheil',\n",
       " 'Worldwide',\n",
       " '(the',\n",
       " \"world's\",\n",
       " '15th',\n",
       " 'largest',\n",
       " 'advertising',\n",
       " 'agency,',\n",
       " 'as',\n",
       " 'measured',\n",
       " 'by',\n",
       " '2012',\n",
       " \"revenues).[11][12]'\"]"
      ]
     },
     "execution_count": 3,
     "metadata": {},
     "output_type": "execute_result"
    }
   ],
   "source": [
    "sw.split( )"
   ]
  },
  {
   "cell_type": "markdown",
   "id": "5eeb0995",
   "metadata": {},
   "source": [
    "                                 #Function - 42 UPPER !\n",
    "    \n",
    "    Definition :-  ( Return a copy of the string converted to uppercase )"
   ]
  },
  {
   "cell_type": "code",
   "execution_count": 7,
   "id": "e4bbdae6",
   "metadata": {},
   "outputs": [],
   "source": [
    "sw = \"\"\"The Samsung Group[3] (or simply Samsung) (Korean: 삼성 [samsʌŋ]) is a South Korean multinational manufacturing conglomerate headquartered in Samsung Town, Seoul, South Korea.[1] It comprises numerous affiliated businesses,[1] most of them united under the Samsung brand, and is the largest South Korean chaebol (business conglomerate). As of 2020, Samsung has the eighth highest global brand value.[4]\n",
    "\n",
    "Samsung was founded by Lee Byung-chul in 1938 as a trading company. Over the next three decades, the group diversified into areas including food processing, textiles, insurance, securities, and retail. Samsung entered the electronics industry in the late 1960s and the construction and shipbuilding industries in the mid-1970s; these areas would drive its subsequent growth. Following Lee's death in 1987, Samsung was separated into five business groups – Samsung Group, Shinsegae Group, CJ Group and Hansol Group, and Joongang Group.\n",
    "\n",
    "Notable Samsung industrial affiliates include Samsung Electronics (the world's largest information technology company, consumer electronics maker and chipmaker measured by 2017 revenues),[5][6] Samsung Heavy Industries (the world's second largest shipbuilder measured by 2010 revenues),[7] and Samsung Engineering and Samsung C&T Corporation (respectively the world's 13th and 36th largest construction companies).[8] Other notable subsidiaries include Samsung Life Insurance (the world's 14th largest life insurance company),[9] Samsung Everland (operator of Everland Resort, the oldest theme park in South Korea)[10] and Cheil Worldwide (the world's 15th largest advertising agency, as measured by 2012 revenues).[11][12]\"\"\""
   ]
  },
  {
   "cell_type": "code",
   "execution_count": 8,
   "id": "4992ac01",
   "metadata": {},
   "outputs": [
    {
     "data": {
      "text/plain": [
       "\"THE SAMSUNG GROUP[3] (OR SIMPLY SAMSUNG) (KOREAN: 삼성 [SAMSɅŊ]) IS A SOUTH KOREAN MULTINATIONAL MANUFACTURING CONGLOMERATE HEADQUARTERED IN SAMSUNG TOWN, SEOUL, SOUTH KOREA.[1] IT COMPRISES NUMEROUS AFFILIATED BUSINESSES,[1] MOST OF THEM UNITED UNDER THE SAMSUNG BRAND, AND IS THE LARGEST SOUTH KOREAN CHAEBOL (BUSINESS CONGLOMERATE). AS OF 2020, SAMSUNG HAS THE EIGHTH HIGHEST GLOBAL BRAND VALUE.[4]\\n\\nSAMSUNG WAS FOUNDED BY LEE BYUNG-CHUL IN 1938 AS A TRADING COMPANY. OVER THE NEXT THREE DECADES, THE GROUP DIVERSIFIED INTO AREAS INCLUDING FOOD PROCESSING, TEXTILES, INSURANCE, SECURITIES, AND RETAIL. SAMSUNG ENTERED THE ELECTRONICS INDUSTRY IN THE LATE 1960S AND THE CONSTRUCTION AND SHIPBUILDING INDUSTRIES IN THE MID-1970S; THESE AREAS WOULD DRIVE ITS SUBSEQUENT GROWTH. FOLLOWING LEE'S DEATH IN 1987, SAMSUNG WAS SEPARATED INTO FIVE BUSINESS GROUPS – SAMSUNG GROUP, SHINSEGAE GROUP, CJ GROUP AND HANSOL GROUP, AND JOONGANG GROUP.\\n\\nNOTABLE SAMSUNG INDUSTRIAL AFFILIATES INCLUDE SAMSUNG ELECTRONICS (THE WORLD'S LARGEST INFORMATION TECHNOLOGY COMPANY, CONSUMER ELECTRONICS MAKER AND CHIPMAKER MEASURED BY 2017 REVENUES),[5][6] SAMSUNG HEAVY INDUSTRIES (THE WORLD'S SECOND LARGEST SHIPBUILDER MEASURED BY 2010 REVENUES),[7] AND SAMSUNG ENGINEERING AND SAMSUNG C&T CORPORATION (RESPECTIVELY THE WORLD'S 13TH AND 36TH LARGEST CONSTRUCTION COMPANIES).[8] OTHER NOTABLE SUBSIDIARIES INCLUDE SAMSUNG LIFE INSURANCE (THE WORLD'S 14TH LARGEST LIFE INSURANCE COMPANY),[9] SAMSUNG EVERLAND (OPERATOR OF EVERLAND RESORT, THE OLDEST THEME PARK IN SOUTH KOREA)[10] AND CHEIL WORLDWIDE (THE WORLD'S 15TH LARGEST ADVERTISING AGENCY, AS MEASURED BY 2012 REVENUES).[11][12]\""
      ]
     },
     "execution_count": 8,
     "metadata": {},
     "output_type": "execute_result"
    }
   ],
   "source": [
    "sw.upper()"
   ]
  },
  {
   "cell_type": "code",
   "execution_count": null,
   "id": "faf02082",
   "metadata": {},
   "outputs": [],
   "source": []
  },
  {
   "cell_type": "code",
   "execution_count": 10,
   "id": "6a8fb8d7",
   "metadata": {},
   "outputs": [],
   "source": [
    "sw = sw.upper()"
   ]
  },
  {
   "cell_type": "code",
   "execution_count": 11,
   "id": "a574fd61",
   "metadata": {},
   "outputs": [
    {
     "data": {
      "text/plain": [
       "\"THE SAMSUNG GROUP[3] (OR SIMPLY SAMSUNG) (KOREAN: 삼성 [SAMSɅŊ]) IS A SOUTH KOREAN MULTINATIONAL MANUFACTURING CONGLOMERATE HEADQUARTERED IN SAMSUNG TOWN, SEOUL, SOUTH KOREA.[1] IT COMPRISES NUMEROUS AFFILIATED BUSINESSES,[1] MOST OF THEM UNITED UNDER THE SAMSUNG BRAND, AND IS THE LARGEST SOUTH KOREAN CHAEBOL (BUSINESS CONGLOMERATE). AS OF 2020, SAMSUNG HAS THE EIGHTH HIGHEST GLOBAL BRAND VALUE.[4]\\n\\nSAMSUNG WAS FOUNDED BY LEE BYUNG-CHUL IN 1938 AS A TRADING COMPANY. OVER THE NEXT THREE DECADES, THE GROUP DIVERSIFIED INTO AREAS INCLUDING FOOD PROCESSING, TEXTILES, INSURANCE, SECURITIES, AND RETAIL. SAMSUNG ENTERED THE ELECTRONICS INDUSTRY IN THE LATE 1960S AND THE CONSTRUCTION AND SHIPBUILDING INDUSTRIES IN THE MID-1970S; THESE AREAS WOULD DRIVE ITS SUBSEQUENT GROWTH. FOLLOWING LEE'S DEATH IN 1987, SAMSUNG WAS SEPARATED INTO FIVE BUSINESS GROUPS – SAMSUNG GROUP, SHINSEGAE GROUP, CJ GROUP AND HANSOL GROUP, AND JOONGANG GROUP.\\n\\nNOTABLE SAMSUNG INDUSTRIAL AFFILIATES INCLUDE SAMSUNG ELECTRONICS (THE WORLD'S LARGEST INFORMATION TECHNOLOGY COMPANY, CONSUMER ELECTRONICS MAKER AND CHIPMAKER MEASURED BY 2017 REVENUES),[5][6] SAMSUNG HEAVY INDUSTRIES (THE WORLD'S SECOND LARGEST SHIPBUILDER MEASURED BY 2010 REVENUES),[7] AND SAMSUNG ENGINEERING AND SAMSUNG C&T CORPORATION (RESPECTIVELY THE WORLD'S 13TH AND 36TH LARGEST CONSTRUCTION COMPANIES).[8] OTHER NOTABLE SUBSIDIARIES INCLUDE SAMSUNG LIFE INSURANCE (THE WORLD'S 14TH LARGEST LIFE INSURANCE COMPANY),[9] SAMSUNG EVERLAND (OPERATOR OF EVERLAND RESORT, THE OLDEST THEME PARK IN SOUTH KOREA)[10] AND CHEIL WORLDWIDE (THE WORLD'S 15TH LARGEST ADVERTISING AGENCY, AS MEASURED BY 2012 REVENUES).[11][12]\""
      ]
     },
     "execution_count": 11,
     "metadata": {},
     "output_type": "execute_result"
    }
   ],
   "source": [
    "sw"
   ]
  },
  {
   "cell_type": "markdown",
   "id": "14be60be",
   "metadata": {},
   "source": [
    "                                      #Function - 42 ( LOWER CASES )!\n",
    "    \n",
    "                Definition :-  ( Return a copy of the string converted to lowercase )"
   ]
  },
  {
   "cell_type": "code",
   "execution_count": 25,
   "id": "f87c310a",
   "metadata": {},
   "outputs": [],
   "source": [
    "sw = \"\"\"The Samsung Group[3] (or simply Samsung) (Korean: 삼성 [samsʌŋ]) is a South Korean multinational manufacturing conglomerate headquartered in Samsung Town, Seoul, South Korea.[1] It comprises numerous affiliated businesses,[1] most of them united under the Samsung brand, and is the largest South Korean chaebol (business conglomerate). As of 2020, Samsung has the eighth highest global brand value.[4]\n",
    "\n",
    "Samsung was founded by Lee Byung-chul in 1938 as a trading company. Over the next three decades, the group diversified into areas including food processing, textiles, insurance, securities, and retail. Samsung entered the electronics industry in the late 1960s and the construction and shipbuilding industries in the mid-1970s; these areas would drive its subsequent growth. Following Lee's death in 1987, Samsung was separated into five business groups – Samsung Group, Shinsegae Group, CJ Group and Hansol Group, and Joongang Group.\n",
    "\n",
    "Notable Samsung industrial affiliates include Samsung Electronics (the world's largest information technology company, consumer electronics maker and chipmaker measured by 2017 revenues),[5][6] Samsung Heavy Industries (the world's second largest shipbuilder measured by 2010 revenues),[7] and Samsung Engineering and Samsung C&T Corporation (respectively the world's 13th and 36th largest construction companies).[8] Other notable subsidiaries include Samsung Life Insurance (the world's 14th largest life insurance company),[9] Samsung Everland (operator of Everland Resort, the oldest theme park in South Korea)[10] and Cheil Worldwide (the world's 15th largest advertising agency, as measured by 2012 revenues).[11][12]\"\"\""
   ]
  },
  {
   "cell_type": "code",
   "execution_count": 26,
   "id": "2074ecfd",
   "metadata": {},
   "outputs": [
    {
     "data": {
      "text/plain": [
       "\"the samsung group[3] (or simply samsung) (korean: 삼성 [samsʌŋ]) is a south korean multinational manufacturing conglomerate headquartered in samsung town, seoul, south korea.[1] it comprises numerous affiliated businesses,[1] most of them united under the samsung brand, and is the largest south korean chaebol (business conglomerate). as of 2020, samsung has the eighth highest global brand value.[4]\\n\\nsamsung was founded by lee byung-chul in 1938 as a trading company. over the next three decades, the group diversified into areas including food processing, textiles, insurance, securities, and retail. samsung entered the electronics industry in the late 1960s and the construction and shipbuilding industries in the mid-1970s; these areas would drive its subsequent growth. following lee's death in 1987, samsung was separated into five business groups – samsung group, shinsegae group, cj group and hansol group, and joongang group.\\n\\nnotable samsung industrial affiliates include samsung electronics (the world's largest information technology company, consumer electronics maker and chipmaker measured by 2017 revenues),[5][6] samsung heavy industries (the world's second largest shipbuilder measured by 2010 revenues),[7] and samsung engineering and samsung c&t corporation (respectively the world's 13th and 36th largest construction companies).[8] other notable subsidiaries include samsung life insurance (the world's 14th largest life insurance company),[9] samsung everland (operator of everland resort, the oldest theme park in south korea)[10] and cheil worldwide (the world's 15th largest advertising agency, as measured by 2012 revenues).[11][12]\""
      ]
     },
     "execution_count": 26,
     "metadata": {},
     "output_type": "execute_result"
    }
   ],
   "source": [
    "sw.lower()"
   ]
  },
  {
   "cell_type": "markdown",
   "id": "6ffab5a7",
   "metadata": {},
   "source": [
    "                                      #Function - 40 ( TITLE )!\n",
    "\n",
    "            Definition :-  ( Return a version of the string where each word is titlecased. )\n",
    "            \n",
    "  Note :- # This function whenever we use Title function our 1st letter of sentence will be in Capital Letter.\n",
    "          # Whenever we write or call \"Title\" Function in that case a very 1st letter is going to be upper case.\n",
    "     \n",
    "  Example :- \"vijay\" all letter is small letter but when we use \"Title\" function then very 1st letter \"V\" will be \n",
    "            in Capital Letter & rest all are in small letter."
   ]
  },
  {
   "cell_type": "code",
   "execution_count": 28,
   "id": "5d065e4a",
   "metadata": {},
   "outputs": [],
   "source": [
    " v = \"vijay\""
   ]
  },
  {
   "cell_type": "code",
   "execution_count": 29,
   "id": "a5817dd7",
   "metadata": {},
   "outputs": [
    {
     "data": {
      "text/plain": [
       "'Vijay'"
      ]
     },
     "execution_count": 29,
     "metadata": {},
     "output_type": "execute_result"
    }
   ],
   "source": [
    "v.title()"
   ]
  },
  {
   "cell_type": "code",
   "execution_count": null,
   "id": "bea8e390",
   "metadata": {},
   "outputs": [],
   "source": []
  },
  {
   "cell_type": "markdown",
   "id": "b03dfc2a",
   "metadata": {},
   "source": [
    "                                  #Function - 1 ( CAPITALIZE )!\n",
    "\n",
    "                 Definition :-  ( Return a capitalized version of the string )\n",
    "                 \n",
    "     # when we write or call Function \"CAPITALIZE\".Now here we can see same outcome as same as \"Title\" Function.\n",
    "     # Whenever we write or call capitalize function in that case very 1st letter is going to be a upper case.\n",
    "     \n",
    "     #Example :-  \"vijay\" was in the lower case but when I called \"Capitalize\" function then it converted my very \n",
    "     #1st letter \"V\" in Capital Letter & rest in lower letter."
   ]
  },
  {
   "cell_type": "code",
   "execution_count": 31,
   "id": "7bd062f7",
   "metadata": {},
   "outputs": [],
   "source": [
    "v = \"vijay\""
   ]
  },
  {
   "cell_type": "code",
   "execution_count": 32,
   "id": "0ae64ded",
   "metadata": {},
   "outputs": [
    {
     "data": {
      "text/plain": [
       "'Vijay'"
      ]
     },
     "execution_count": 32,
     "metadata": {},
     "output_type": "execute_result"
    }
   ],
   "source": [
    "v.capitalize()"
   ]
  },
  {
   "cell_type": "code",
   "execution_count": null,
   "id": "5a4318a1",
   "metadata": {},
   "outputs": [],
   "source": []
  },
  {
   "cell_type": "markdown",
   "id": "03ee2e39",
   "metadata": {},
   "source": [
    "                                      #Function - 39 ( SWAPCASE )!\n",
    "\n",
    "        Definition :-  ( Convert uppercase characters to lowercase and lowercase characters to uppercase )"
   ]
  },
  {
   "cell_type": "code",
   "execution_count": 1,
   "id": "aec2ca69",
   "metadata": {},
   "outputs": [],
   "source": [
    "v = \"VijaY guRunG\""
   ]
  },
  {
   "cell_type": "code",
   "execution_count": 2,
   "id": "0a209993",
   "metadata": {},
   "outputs": [
    {
     "data": {
      "text/plain": [
       "'vIJAy GUrUNg'"
      ]
     },
     "execution_count": 2,
     "metadata": {},
     "output_type": "execute_result"
    }
   ],
   "source": [
    "v.swapcase()"
   ]
  },
  {
   "cell_type": "markdown",
   "id": "f2830334",
   "metadata": {},
   "source": [
    "                                      #Function - 44 ( Reversed )!\n",
    "\n",
    "       Definition :- ( Reverse always return an object ) - Return a reverse iterator over the values of the given sequence."
   ]
  },
  {
   "cell_type": "code",
   "execution_count": 4,
   "id": "529d61d2",
   "metadata": {},
   "outputs": [],
   "source": [
    "v = \"Vijay Gurung\""
   ]
  },
  {
   "cell_type": "code",
   "execution_count": 5,
   "id": "d4edf78a",
   "metadata": {},
   "outputs": [
    {
     "data": {
      "text/plain": [
       "<reversed at 0x1a656413250>"
      ]
     },
     "execution_count": 5,
     "metadata": {},
     "output_type": "execute_result"
    }
   ],
   "source": [
    "reversed(v)"
   ]
  },
  {
   "cell_type": "code",
   "execution_count": 8,
   "id": "59a78bd4",
   "metadata": {},
   "outputs": [
    {
     "data": {
      "text/plain": [
       "'gnuruG yajiV'"
      ]
     },
     "execution_count": 8,
     "metadata": {},
     "output_type": "execute_result"
    }
   ],
   "source": [
    "''.join(reversed(v))"
   ]
  },
  {
   "cell_type": "markdown",
   "id": "f2bb033a",
   "metadata": {},
   "source": [
    "                                         Function - 44 ( STRIP )! - Strip Means Remove!\n",
    "\n",
    "       Definition :- 1.( Strip - Strip is going to remove space which is available before & after between string( Vijay).\n",
    "       \n",
    "       Simple Definition - ( If we have a space on left hand side as well as right hand side, if we want to remove both\n",
    "                             then I will call just a strip Function.) \n",
    "       \n",
    "       Strip :- ( Return a copy of the string with leading and trailing whitespace removed.)\n",
    "       \n",
    "       "
   ]
  },
  {
   "cell_type": "code",
   "execution_count": 17,
   "id": "11163299",
   "metadata": {},
   "outputs": [],
   "source": [
    "v = \"  Vijay  \""
   ]
  },
  {
   "cell_type": "code",
   "execution_count": 18,
   "id": "a4c01569",
   "metadata": {},
   "outputs": [
    {
     "data": {
      "text/plain": [
       "'Vijay'"
      ]
     },
     "execution_count": 18,
     "metadata": {},
     "output_type": "execute_result"
    }
   ],
   "source": [
    "v.strip()"
   ]
  },
  {
   "cell_type": "markdown",
   "id": "90094ae9",
   "metadata": {},
   "source": [
    "                  Function - 44 ( Strip ) Another Example !\n",
    "    \n",
    "    - Here why strip not remove that space between (vi  jay) because,In this case it will not going to remove a space which is \n",
    "    available in between (Vi   jay).Strip always try to remove a space which is available before & after\n",
    "    \n",
    "                     (       Vijay       ) only."
   ]
  },
  {
   "cell_type": "code",
   "execution_count": 14,
   "id": "a12882e1",
   "metadata": {},
   "outputs": [],
   "source": [
    "v = \"      Vi    Jay     \""
   ]
  },
  {
   "cell_type": "code",
   "execution_count": 15,
   "id": "d0ab560b",
   "metadata": {},
   "outputs": [
    {
     "data": {
      "text/plain": [
       "'Vi    Jay'"
      ]
     },
     "execution_count": 15,
     "metadata": {},
     "output_type": "execute_result"
    }
   ],
   "source": [
    "v.strip()"
   ]
  },
  {
   "cell_type": "markdown",
   "id": "918620f5",
   "metadata": {},
   "source": [
    "                           Function - 25 & 34  ( Lstrip  &  Rstrip )\n",
    "    \n",
    "    ( 25- LStrip ) - ( If we going to call LStrip then we can see over here from left hand side whatever space we have,\n",
    "                       it will going to Strip or remove that part)                     \n",
    "                                    But, in right hand side Space it will not going to remove,it will remain same as it is).\n",
    "         - Lstrip only remove space of left side not the right side.    "
   ]
  },
  {
   "cell_type": "code",
   "execution_count": 22,
   "id": "cf0a4cf0",
   "metadata": {},
   "outputs": [],
   "source": [
    "v = \"       Vijay     \""
   ]
  },
  {
   "cell_type": "code",
   "execution_count": 23,
   "id": "759f5274",
   "metadata": {},
   "outputs": [
    {
     "data": {
      "text/plain": [
       "'Vijay     '"
      ]
     },
     "execution_count": 23,
     "metadata": {},
     "output_type": "execute_result"
    }
   ],
   "source": [
    "v.lstrip()"
   ]
  },
  {
   "cell_type": "markdown",
   "id": "a1d04a08",
   "metadata": {},
   "source": [
    "                               Function - 25 & 34  ( Lstrip  &  Rstrip )\n",
    "                               \n",
    "    34 - Rstrip - ( If I am going to call a RStrip(),then it will going to remove space from right hand side.\n",
    "    \n",
    "                 - It will not going to remove a space from left hand side.It will going to remove \n",
    "                                   a sapce only from a a Right Hand side. )\n",
    "    "
   ]
  },
  {
   "cell_type": "code",
   "execution_count": 25,
   "id": "7c5fcf1f",
   "metadata": {},
   "outputs": [],
   "source": [
    "v = \"        Vijay        \""
   ]
  },
  {
   "cell_type": "code",
   "execution_count": 26,
   "id": "3f3527f4",
   "metadata": {},
   "outputs": [
    {
     "data": {
      "text/plain": [
       "'        Vijay'"
      ]
     },
     "execution_count": 26,
     "metadata": {},
     "output_type": "execute_result"
    }
   ],
   "source": [
    "v.rstrip()"
   ]
  },
  {
   "cell_type": "markdown",
   "id": "1c32e336",
   "metadata": {},
   "source": [
    "                                  Function - 22 ( JOIN ) \n",
    "    \n",
    "    22 - JOIN - ( So with space \"join\". If I call \"Vijaygurung\", here we will able to find out that with the help of Joined                                      function.This particular space ( \" \" ) joined we can see a space between each character.\n",
    " \n",
    "    "
   ]
  },
  {
   "cell_type": "code",
   "execution_count": 28,
   "id": "7e00470c",
   "metadata": {},
   "outputs": [],
   "source": [
    "v = \"vijaygurung\""
   ]
  },
  {
   "cell_type": "code",
   "execution_count": 29,
   "id": "1c8b216d",
   "metadata": {},
   "outputs": [
    {
     "data": {
      "text/plain": [
       "'v i j a y g u r u n g'"
      ]
     },
     "execution_count": 29,
     "metadata": {},
     "output_type": "execute_result"
    }
   ],
   "source": [
    "\" \".join(\"vijaygurung\")"
   ]
  },
  {
   "cell_type": "markdown",
   "id": "d4436b06",
   "metadata": {},
   "source": [
    "                                     Function - 22 ( JOIN ) \n",
    "    \n",
    "    22- JOIN - ( If I would like to put some of the character over here may be \"a\")\n",
    "                  In this case after every character it has joined \"a\"."
   ]
  },
  {
   "cell_type": "code",
   "execution_count": 34,
   "id": "49992335",
   "metadata": {},
   "outputs": [],
   "source": [
    "v = \"vijaygurung\""
   ]
  },
  {
   "cell_type": "code",
   "execution_count": 35,
   "id": "ed084744",
   "metadata": {},
   "outputs": [
    {
     "data": {
      "text/plain": [
       "'vaiajaaayagauarauanag'"
      ]
     },
     "execution_count": 35,
     "metadata": {},
     "output_type": "execute_result"
    }
   ],
   "source": [
    "\"a\".join(\"vijaygurung\")"
   ]
  },
  {
   "cell_type": "markdown",
   "id": "e77d2c60",
   "metadata": {},
   "source": [
    "                              Function - 22 ( CENTER )  \n",
    "                              \n",
    "    1. ( Return a centerd string odf length width.)\n",
    "    \n",
    "    If I have a string(str) v = \"vijay\" & If I am going to call a V.center() , So it take 2 parameter.\n",
    "    \n",
    "    (a) width\n",
    "    (b) Character\n",
    "    \n",
    "    Exaplanation :- b Let suppose width wise If I am going to give 20.20 is nothing but its a reversed space.\n",
    "                                    So, it will going to reversed 20 number of space & then I can try to call basically \n",
    "    reversed all of these with \"Z\".\n",
    "    \n",
    "    It will going to reversed 20 space.It reversed 20 number of space & then in a center it is trying to put this particular \n",
    "    string (Str) - \"vijay\".Before & after it will filled with \"z\".\n",
    "    \n",
    "    - So here also same in \"#\" whatever data I am going to place it is going to fill all these space with that particular\n",
    "      character."
   ]
  },
  {
   "cell_type": "code",
   "execution_count": 36,
   "id": "2600dd09",
   "metadata": {},
   "outputs": [],
   "source": [
    "V = \"vijay\""
   ]
  },
  {
   "cell_type": "code",
   "execution_count": 37,
   "id": "cda3f1cc",
   "metadata": {},
   "outputs": [
    {
     "data": {
      "text/plain": [
       "'zzzzvijaygurungzzzzz'"
      ]
     },
     "execution_count": 37,
     "metadata": {},
     "output_type": "execute_result"
    }
   ],
   "source": [
    "v.center(20,\"z\")"
   ]
  },
  {
   "cell_type": "code",
   "execution_count": 38,
   "id": "3d0be734",
   "metadata": {},
   "outputs": [],
   "source": [
    "v = \"vijay\""
   ]
  },
  {
   "cell_type": "code",
   "execution_count": 39,
   "id": "96e155e8",
   "metadata": {},
   "outputs": [
    {
     "data": {
      "text/plain": [
       "'#######vijay########'"
      ]
     },
     "execution_count": 39,
     "metadata": {},
     "output_type": "execute_result"
    }
   ],
   "source": [
    "v.center(20,\"#\")"
   ]
  },
  {
   "cell_type": "code",
   "execution_count": 1,
   "id": "56013f09",
   "metadata": {},
   "outputs": [],
   "source": []
  },
  {
   "cell_type": "markdown",
   "id": "a6e2b40a",
   "metadata": {},
   "source": [
    "                                         #Function\n",
    "    \n",
    "                               #List of (IS) - Function ( Total - 12 )    \n",
    "        \n",
    "    Definition -  ( Is- Function ) - ( V.Is ) - With respect to string (str) there is many function which is available.     \n",
    "  \n",
    "   - Whatever function or option here available with \"IS\" they are going to return \"True\" or \"False\".\n",
    " \n",
    "           - So it is going to check is this available in upperCase or LowerCase,alphabetic,Numeric all short of things \n",
    "            it will going to check.        \n",
    " \n",
    "               \"IS\" is the function which going to start with \"IS\" bydefault it is going to return whether \"True\" or \"False\"\n",
    "\n",
    "        -  A Boolean Value at any point of time.We have seen \"True\" or \"False\" is a Boolean Variable (0 & 1 or 1 & 0).\n",
    "    \n",
    "    \n",
    "(1)  IsAlnum\n",
    "\n",
    "(2) IsAlpha\n",
    "\n",
    "(3) IsAscii\n",
    "\n",
    "(4) IsDecimal\n",
    "\n",
    "(5) IsDigit\n",
    "\n",
    "(6) IsIdentifier\n",
    "\n",
    "(7) IsLower\n",
    "\n",
    "(8) IsNumeric\n",
    "\n",
    "(9) IsPrintable\n",
    "\n",
    "(10) ISSpace\n",
    "\n",
    "(11) IsTitle\n",
    "\n",
    "(12) IsUpper"
   ]
  },
  {
   "cell_type": "code",
   "execution_count": 6,
   "id": "fc4ea03b",
   "metadata": {},
   "outputs": [],
   "source": []
  },
  {
   "cell_type": "markdown",
   "id": "8668f892",
   "metadata": {},
   "source": [
    "                              Function - 12 ( IS UPPER )  \n",
    "\n",
    "1. IS UPPER -( Return True if the string is an uppercase string, False otherwise.)\n",
    "\n",
    "   Defintion :- Here If I am going to call IS Upper it will going to return 'False'\n",
    "                      Here I am just trying to check is this string (\"Vijaygurung\") available in Upper Case.So It is going \n",
    "    to return \"False\".\n",
    "\n",
    "- \"Vijaygurung\" here my string is not available in a UpperCase , my all the characters are not available in Uppercase.\n",
    "\n",
    "\n",
    "- Only Letter \"V\" or Character \"V\" is in Upper Case.Not my all the characters are in UpperCase.So it will going to give me\n",
    "\n",
    "  an \"False\" Output.\n",
    " "
   ]
  },
  {
   "cell_type": "code",
   "execution_count": 11,
   "id": "944a212d",
   "metadata": {},
   "outputs": [],
   "source": [
    "v = \"Vijaygurung\""
   ]
  },
  {
   "cell_type": "code",
   "execution_count": 12,
   "id": "0d59fc65",
   "metadata": {},
   "outputs": [
    {
     "data": {
      "text/plain": [
       "False"
      ]
     },
     "execution_count": 12,
     "metadata": {},
     "output_type": "execute_result"
    }
   ],
   "source": [
    "v.isupper()"
   ]
  },
  {
   "cell_type": "markdown",
   "id": "a640a6ae",
   "metadata": {},
   "source": [
    "                                #Another Example : Function -12  - ( Is Upper )\n",
    "    \n",
    "    - True we got Because, here everything is available in a upperCases, Even a Single character available in a LowerCase\n",
    "      it will going to return a \"Fasle\".\n",
    "    \n",
    "    - So, here my all the characters are \"GURUNG\" are in a UpperCase.So it is going to give me an \"True\".\n",
    "    \n",
    "    "
   ]
  },
  {
   "cell_type": "code",
   "execution_count": 15,
   "id": "135390eb",
   "metadata": {},
   "outputs": [],
   "source": [
    "v1 = \"GURUNG\""
   ]
  },
  {
   "cell_type": "code",
   "execution_count": 16,
   "id": "f17a64e7",
   "metadata": {},
   "outputs": [
    {
     "data": {
      "text/plain": [
       "True"
      ]
     },
     "execution_count": 16,
     "metadata": {},
     "output_type": "execute_result"
    }
   ],
   "source": [
    "v1.isupper()"
   ]
  },
  {
   "cell_type": "markdown",
   "id": "6fac237c",
   "metadata": {},
   "source": [
    "                                   Function - 7 ( IS LOWER )  \n",
    "    \n",
    "     IS LOWER -( Return True if the string is a lowercase string, False otherwise.)\n",
    "     \n",
    "     -'FALSE' we got because, Is this my entire \"Vijaygurung\" is in a LowerCase.No,right.\n",
    "     \n",
    "     - Here we can only Letter or character \"V\" is in a Capital Letter & others letter are in a LowerCase.\n",
    "     \n",
    "     - So, because of that my entire output will be \"False\".        "
   ]
  },
  {
   "cell_type": "code",
   "execution_count": 19,
   "id": "a150167c",
   "metadata": {},
   "outputs": [],
   "source": [
    "v = \"Vijaygurung\""
   ]
  },
  {
   "cell_type": "code",
   "execution_count": 20,
   "id": "1817e439",
   "metadata": {},
   "outputs": [
    {
     "data": {
      "text/plain": [
       "False"
      ]
     },
     "execution_count": 20,
     "metadata": {},
     "output_type": "execute_result"
    }
   ],
   "source": [
    "v.islower()"
   ]
  },
  {
   "cell_type": "markdown",
   "id": "4fd99609",
   "metadata": {},
   "source": [
    "               #Another Example : Function -7  - ( Is Lower )\n",
    "\n",
    "- True we got Because, here everything is available in a LowerCases,Not even a Single character or word is in UpperCase or\n",
    "   Capital Letter.\n",
    "            So that why my outcome will be \"True\".\n",
    "\n",
    "- So, here my all the characters are \"gurung\" are in a LowerCase.So it is going to give me an \"True\"."
   ]
  },
  {
   "cell_type": "code",
   "execution_count": 23,
   "id": "6f487153",
   "metadata": {},
   "outputs": [],
   "source": [
    "v2 = \"gurung\""
   ]
  },
  {
   "cell_type": "code",
   "execution_count": 24,
   "id": "26aa24ff",
   "metadata": {},
   "outputs": [
    {
     "data": {
      "text/plain": [
       "True"
      ]
     },
     "execution_count": 24,
     "metadata": {},
     "output_type": "execute_result"
    }
   ],
   "source": [
    "v2.islower()"
   ]
  },
  {
   "cell_type": "markdown",
   "id": "7fb62916",
   "metadata": {},
   "source": [
    "                                 Function - 10 ( IS SPACE )  \n",
    "\n",
    "     IS SPACE -( Return True if the string is a whitespace string, False otherwise.)\n",
    "     \n",
    "     - If we call \"Is Space\" it will going to give me an \"False\".\n",
    "     - Is this string ( V.Isspace )is a space string(str).So, its not in the space function.So it will going to give\n",
    "       me an \"False\"."
   ]
  },
  {
   "cell_type": "code",
   "execution_count": 27,
   "id": "07451b6d",
   "metadata": {},
   "outputs": [],
   "source": [
    " v = \"Vijaygurung\""
   ]
  },
  {
   "cell_type": "code",
   "execution_count": 28,
   "id": "59016067",
   "metadata": {},
   "outputs": [
    {
     "data": {
      "text/plain": [
       "False"
      ]
     },
     "execution_count": 28,
     "metadata": {},
     "output_type": "execute_result"
    }
   ],
   "source": [
    "v.isspace()"
   ]
  },
  {
   "cell_type": "markdown",
   "id": "f50e4a0f",
   "metadata": {},
   "source": [
    "                              #Another Example :- Function - 10 ( IS SPACE )  \n",
    " \n",
    "    - IS SPACE -( Return True if the string is a whitespace string, False otherwise.)\n",
    "    \n",
    "    - Here we can see we are geeting an output as a \"True\" Because , This is string str but a Blank one.\"    \"\n",
    "    \n",
    "    - Basically it available with the complete space."
   ]
  },
  {
   "cell_type": "code",
   "execution_count": 30,
   "id": "de2bcfbd",
   "metadata": {},
   "outputs": [],
   "source": [
    "v4 = \"    \""
   ]
  },
  {
   "cell_type": "code",
   "execution_count": 31,
   "id": "4b1bf6c8",
   "metadata": {},
   "outputs": [
    {
     "data": {
      "text/plain": [
       "True"
      ]
     },
     "execution_count": 31,
     "metadata": {},
     "output_type": "execute_result"
    }
   ],
   "source": [
    "v4.isspace()"
   ]
  },
  {
   "cell_type": "markdown",
   "id": "e2795d15",
   "metadata": {},
   "source": [
    "                                    Function - 10 ( IS DIGIT )  \n",
    "\n",
    "    -  IS DIGIT -( Return True if the string is a digit string, False otherwise.)\n",
    "    \n",
    "    - \"False\" Because , it is not available in digit form (1,2,3,5,8,4) etc, so that why my outcome will be the \"False\"\n",
    "    "
   ]
  },
  {
   "cell_type": "code",
   "execution_count": 33,
   "id": "c2bcc0c8",
   "metadata": {},
   "outputs": [],
   "source": [
    "v = \"Vijaygurung\""
   ]
  },
  {
   "cell_type": "code",
   "execution_count": 34,
   "id": "fd07add3",
   "metadata": {},
   "outputs": [
    {
     "data": {
      "text/plain": [
       "False"
      ]
     },
     "execution_count": 34,
     "metadata": {},
     "output_type": "execute_result"
    }
   ],
   "source": [
    "v.isdigit()"
   ]
  },
  {
   "cell_type": "markdown",
   "id": "54b3c944",
   "metadata": {},
   "source": [
    "                         #Another Example :-  Function - 10 ( IS DIGIT )  \n",
    "\n",
    "    -IS DIGIT - ( Return True if the string is a digit string, False otherwise.)\n",
    "    \n",
    "    -\"True\" Because, It is in the integer (int) form & in the digit form that the region my output was \"True\" ."
   ]
  },
  {
   "cell_type": "code",
   "execution_count": 35,
   "id": "b86da7af",
   "metadata": {},
   "outputs": [],
   "source": [
    "v5 = \"3456\""
   ]
  },
  {
   "cell_type": "code",
   "execution_count": 36,
   "id": "5b725a43",
   "metadata": {},
   "outputs": [
    {
     "data": {
      "text/plain": [
       "True"
      ]
     },
     "execution_count": 36,
     "metadata": {},
     "output_type": "execute_result"
    }
   ],
   "source": [
    "v5.isdigit()"
   ]
  },
  {
   "cell_type": "markdown",
   "id": "f109154a",
   "metadata": {},
   "source": [
    "                    #Another Example 2 :-  Function - 10 ( IS DIGIT )  \n",
    "\n",
    "    -IS DIGIT - ( Return True if the string is a digit string, False otherwise.)\n",
    "    \n",
    "    - \"False\" Because, here we have numeric as well Digit, If I am going to call this we get \"False\" outcome.\n",
    "    \n",
    "    - It's a \"False\" because it is not in the complete digit. Digit is always going to check for the digit one. "
   ]
  },
  {
   "cell_type": "code",
   "execution_count": 38,
   "id": "2e7b72ab",
   "metadata": {},
   "outputs": [],
   "source": [
    "v6 = \"PQr3456\""
   ]
  },
  {
   "cell_type": "code",
   "execution_count": 39,
   "id": "4227add5",
   "metadata": {},
   "outputs": [
    {
     "data": {
      "text/plain": [
       "False"
      ]
     },
     "execution_count": 39,
     "metadata": {},
     "output_type": "execute_result"
    }
   ],
   "source": [
    "v6.isdigit()"
   ]
  },
  {
   "cell_type": "code",
   "execution_count": 1,
   "id": "b7ce1b15",
   "metadata": {},
   "outputs": [],
   "source": [
    " V = \"vijaygurung\""
   ]
  },
  {
   "cell_type": "code",
   "execution_count": 2,
   "id": "bf57919b",
   "metadata": {},
   "outputs": [
    {
     "data": {
      "text/plain": [
       "False"
      ]
     },
     "execution_count": 2,
     "metadata": {},
     "output_type": "execute_result"
    }
   ],
   "source": [
    "V.startswith('t')"
   ]
  },
  {
   "cell_type": "code",
   "execution_count": null,
   "id": "0aff30a1",
   "metadata": {},
   "outputs": [],
   "source": []
  }
 ],
 "metadata": {
  "kernelspec": {
   "display_name": "Python 3 (ipykernel)",
   "language": "python",
   "name": "python3"
  },
  "language_info": {
   "codemirror_mode": {
    "name": "ipython",
    "version": 3
   },
   "file_extension": ".py",
   "mimetype": "text/x-python",
   "name": "python",
   "nbconvert_exporter": "python",
   "pygments_lexer": "ipython3",
   "version": "3.9.12"
  }
 },
 "nbformat": 4,
 "nbformat_minor": 5
}
